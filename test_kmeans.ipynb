{
 "cells": [
  {
   "cell_type": "markdown",
   "metadata": {},
   "source": [
    "# Topicando (AlPHA)\n",
    "Topicando es un proyecto que busca ayudar a obtener los tópicos más comentados por un grupo de personas, obteniendo palabras clave en forma de ranking y grafos, para poder analizar necesidades, reclamos, comentarios, tendencias e ideas de la comunidad de forma masiva.\n",
    "\n",
    "En base a un array de frases como input se procesarán y analizarán los datos recolectados para poder tener un contexto de un tema de debate o discusión, siendo asi que:\n",
    "- Presenta en una lista ordenada de mayor a menor las palabras más utilizadas diferenciadas con stemming o lemmatizing\n",
    "- En base a las x palabras más usadas escogidas por estadistica o por número fijo, se crean clusters con KNN, KMeans, etc o solo con que contengan a esta palabra y se muestran grafos por cada palabra elegida como centroide\n",
    "- De cada cluster o agrupación se debe mostrar las palabras más usadas"
   ]
  },
  {
   "cell_type": "markdown",
   "metadata": {},
   "source": [
    "## Imports"
   ]
  },
  {
   "cell_type": "code",
   "execution_count": 1,
   "metadata": {},
   "outputs": [],
   "source": [
    "import spacy\n",
    "from unidecode import unidecode\n",
    "from string import punctuation \n",
    "from nltk.corpus import stopwords\n",
    "from collections import Counter\n",
    "from spacy.matcher import Matcher\n",
    "import pandas as pd\n",
    "import numpy as np"
   ]
  },
  {
   "cell_type": "code",
   "execution_count": 28,
   "metadata": {},
   "outputs": [],
   "source": [
    "class TopicandoV1:\n",
    "    nlp = None\n",
    "    phrases = []\n",
    "    entities = []\n",
    "    relations = []\n",
    "    dictWords = {}\n",
    "    \n",
    "    def __init__(self, spacyLang, phrases):\n",
    "        self.nlp = spacy.load(spacyLang)\n",
    "        self.phrases = phrases\n",
    "        self.entities = []\n",
    "        self.relations = []\n",
    "        self.dictWords = {}\n",
    "    \n",
    "    def getVectorizedPhrases(self):\n",
    "        values = []\n",
    "        for phrase in self.phrases:\n",
    "            vector = np.zeros(300)\n",
    "            doc = self.nlp(phrase)\n",
    "            for token in doc:\n",
    "                if not token.is_stop and not token.is_punct:\n",
    "                    #print(token.text, token.pos_, token.dep_) #eliminar det\n",
    "                    vector = vector + np.array(token.vector_norm)\n",
    "            values.append(vector / len(doc))\n",
    "        return np.array(values)\n",
    "\n",
    "    def getMostUsedWordsInCorpus(self, useLemma = True):\n",
    "        fullText = \"\"\n",
    "        for phrase in self.phrases:\n",
    "            fullText += (phrase + \" \")\n",
    "        doc = self.nlp(fullText)\n",
    "\n",
    "        words = [(token.lemma_ if useLemma else token.text)\n",
    "            for token in doc\n",
    "            if not token.is_stop and not token.is_punct]\n",
    "\n",
    "        word_freq = Counter(words)\n",
    "        common_words = word_freq.most_common()\n",
    "        return common_words\n",
    "    \n",
    "    def getWordCountOfEntitiesAndRelations(self):\n",
    "        dictWords = {}\n",
    "        for entitiesPair in self.entities:\n",
    "            for word in entitiesPair:\n",
    "                if word not in dictWords.keys():\n",
    "                    dictWords[word] = 1\n",
    "                else:\n",
    "                    dictWords[word] += 1\n",
    "        for relations in self.relations:\n",
    "            for word in relations:\n",
    "                if word not in dictWords.keys():\n",
    "                    dictWords[word] = 1\n",
    "                else:\n",
    "                    dictWords[word] += 1\n",
    "\n",
    "        self.dictWords = dictWords\n",
    "        return dictWords\n",
    "\n",
    "    def getMostUsedWordsOfEntitiesAndRelations(self, useLemma = True):\n",
    "        self.getWordCountOfEntitiesAndRelations()\n",
    "        return dict(sorted(self.dictWords.items(), key=lambda item: item[1], reverse=True))\n",
    "    \n",
    "    def searchEntitiesAndRelations(self):\n",
    "        self.entities = []\n",
    "        for phrase in self.phrases:\n",
    "            self.entities.append(self.__getEntities(phrase))\n",
    "        \n",
    "        self.relations = []\n",
    "        for phrase in self.phrases:\n",
    "            self.relations.append(self.__getRelations(phrase))\n",
    "    \n",
    "    def getSourceEdgeTargetDataFrame(self,sourcesToSearch=[], edgesToSearch=[], targetsToSearch=[]):\n",
    "        phraseLength = len(self.entities)\n",
    "        sources = []\n",
    "        targets = []\n",
    "        edges = []\n",
    "        \n",
    "        for index in range(0, phraseLength):\n",
    "            for relation in self.relations[index]:\n",
    "                source = self.entities[index][0]\n",
    "                target = self.entities[index][1]\n",
    "\n",
    "                if (len(sourcesToSearch) + len(targetsToSearch) + len(edgesToSearch)) == 0 or (relation in edgesToSearch or source in sourcesToSearch or target in targetsToSearch):\n",
    "                    sources.append(self.entities[index][0])\n",
    "                    targets.append(self.entities[index][1])\n",
    "                    edges.append(relation)\n",
    "\n",
    "        sourceEdgeTargetDataframe = pd.DataFrame({'source':sources, 'target':targets, 'edge':edges})\n",
    "        return sourceEdgeTargetDataframe\n",
    "    def __getRelations(self, phrase):\n",
    "        doc = self.nlp(phrase)\n",
    "\n",
    "        matcher = Matcher(self.nlp.vocab)\n",
    "        pattern = [\n",
    "            {'POS':'VERB','OP':\"?\"},\n",
    "            {'POS':'AUX','OP':\"?\"},\n",
    "        ]\n",
    "\n",
    "        matcher.add(\"matching_1\", [pattern]) \n",
    "        matches = matcher(doc)\n",
    "\n",
    "        if len(matches) == 0:\n",
    "            return [\"haber\"]\n",
    "\n",
    "        return [doc[match[1]:match[2]].lemma_ for match in matches]\n",
    "\n",
    "    def __getEntities(self, phrase):\n",
    "        ent1 = \"\"\n",
    "        ent2 = \"\"\n",
    "\n",
    "        prv_tok_dep = \"\"    \n",
    "        prv_tok_text = \"\"   \n",
    "\n",
    "        prefix = \"\"\n",
    "        modifier = \"\"\n",
    "\n",
    "        prv_token = None\n",
    "\n",
    "        tokens = []\n",
    "\n",
    "        for tok in self.nlp(phrase):\n",
    "            if tok.dep_ != \"punct\":\n",
    "                if tok.dep_ == \"compound\":\n",
    "                    prefix = tok.text\n",
    "                if prv_tok_dep == \"compound\":\n",
    "                    prefix = prv_tok_text + \" \"+ tok.text\n",
    "                if tok.dep_.endswith(\"mod\") == True:\n",
    "                    modifier = tok.text\n",
    "                if prv_tok_dep == \"compound\":\n",
    "                    modifier = prv_tok_text + \" \"+ tok.text\n",
    "                if (tok.dep_.find(\"subj\") == True or tok.dep_ == \"subj\") and tok.pos_ != \"PRON\":\n",
    "                    ent1 = modifier + \" \" + prefix + \" \"+ tok.lemma_\n",
    "                    prefix = \"\"\n",
    "                    modifier = \"\"\n",
    "                    prv_tok_dep = \"\"\n",
    "                    prv_tok_text = \"\"\n",
    "                    tokens.append(ent1)\n",
    "                if tok.dep_.find(\"obj\") == True:\n",
    "                    ent2 = modifier + \" \" + prefix + \" \" + tok.lemma_\n",
    "                    tokens.append(ent2)\n",
    "                if tok.dep_ == \"obj\":\n",
    "                    ent2 = tok.lemma_\n",
    "                    tokens.append(ent2)\n",
    "                if ent1.strip() == \"\" and ent2.find(tok.lemma_) == -1:\n",
    "                    if tok.dep_.find(\"mod\") == True and tok.pos_ == \"ADJ\":\n",
    "                        ent1 = tok.lemma_\n",
    "                        tokens.append(ent1)\n",
    "                    if tok.pos_ == \"NOUN\":\n",
    "                        ent1 = tok.lemma_\n",
    "                        tokens.append(ent1)\n",
    "                if ent2.strip() == \"\" and ent1.find(tok.lemma_) == -1:\n",
    "                    if tok.dep_.find(\"mod\") == True and tok.pos_ == \"ADJ\":\n",
    "                        ent2 = tok.lemma_\n",
    "                        tokens.append(ent2)\n",
    "                    if tok.pos_ == \"ADJ\":\n",
    "                        ent2 = tok.lemma_\n",
    "                        tokens.append(ent2)\n",
    "                    if tok.pos_ == \"NOUN\":\n",
    "                        ent2 = tok.lemma_\n",
    "                        tokens.append(ent2)\n",
    "                    if (prv_token != None and prv_token.pos_ == \"AUX\") and (tok.pos_ == \"VERB\" or tok.pos_ == \"ADJ\"):\n",
    "                        ent2 = tok.lemma_\n",
    "                        tokens.append(ent2)\n",
    "                prv_tok_dep = tok.dep_\n",
    "                prv_tok_text = tok.text\n",
    "                prv_token = tok\n",
    "\n",
    "        #return [token.strip() for  token in tokens]\n",
    "        return [ent1.strip(), ent2.strip()]"
   ]
  },
  {
   "cell_type": "code",
   "execution_count": 3,
   "metadata": {},
   "outputs": [],
   "source": [
    "import pandas as pd\n",
    "import networkx as nx\n",
    "import matplotlib.pyplot as plt\n",
    "import scipy"
   ]
  },
  {
   "cell_type": "code",
   "execution_count": 4,
   "metadata": {},
   "outputs": [],
   "source": [
    "from sklearn.cluster import KMeans\n",
    "import numpy as np"
   ]
  },
  {
   "cell_type": "markdown",
   "metadata": {},
   "source": [
    "## Data"
   ]
  },
  {
   "cell_type": "code",
   "execution_count": 5,
   "metadata": {},
   "outputs": [],
   "source": [
    "phrases = [\n",
    "    \"No hay baños limpios\",\n",
    "    \"los baños no se limpian\",\n",
    "    \"los baños están sucios\",\n",
    "    \"los vecinos hacen mucho ruido\",\n",
    "    \"la vecina todo el día grita\",\n",
    "    \"la vecina grita todo el día\",\n",
    "    \"el vecino prende la radio todo el día\",\n",
    "    \"ya no hay respeto a los mayores\",\n",
    "    \"me acosan en la calle del barrio\",\n",
    "    \"los viejos miran mucho mi cuerpo\",\n",
    "    \"morbosean a mis familiares\",\n",
    "    \"los viejos son pervertidos\",\n",
    "    \"las calles están sucias\",\n",
    "    \"ya no hay calles limpias\",\n",
    "    \"los perros dañan la basura\",\n",
    "    \"hay muchos perros que dejan sus desechos en la calle\",\n",
    "    \"mucha mierda de perro en la acera\",\n",
    "]"
   ]
  },
  {
   "cell_type": "code",
   "execution_count": 29,
   "metadata": {},
   "outputs": [],
   "source": [
    "data = pd.read_csv('./sugerencias-y-quejas-de-los-ciudadanos (1).csv',delimiter=';')\n",
    "data = data.dropna()\n",
    "data[data['Referencia'].apply(lambda x: isinstance(x, (str, bytes)))]\n",
    "phrases = [ phrase.lower() for phrase in data.iloc[:,6].values]"
   ]
  },
  {
   "cell_type": "markdown",
   "metadata": {},
   "source": [
    "## Functions"
   ]
  },
  {
   "cell_type": "code",
   "execution_count": 30,
   "metadata": {},
   "outputs": [],
   "source": [
    "topicando = TopicandoV1(\"es_core_news_lg\",phrases)"
   ]
  },
  {
   "cell_type": "code",
   "execution_count": 31,
   "metadata": {},
   "outputs": [],
   "source": [
    "vectorizedPhrases = topicando.getVectorizedPhrases()"
   ]
  },
  {
   "cell_type": "code",
   "execution_count": 32,
   "metadata": {},
   "outputs": [
    {
     "data": {
      "image/png": "[encoded data removed]",
      "text/plain": [
       "<Figure size 640x480 with 1 Axes>"
      ]
     },
     "metadata": {},
     "output_type": "display_data"
    }
   ],
   "source": [
    "Nc = range(2, 15)\n",
    "kmeans = [KMeans(n_clusters = i) for i in Nc]\n",
    "kmeans\n",
    "score = [kmeans[i].fit(vectorizedPhrases).score(vectorizedPhrases) for i in range(len(kmeans))]\n",
    "score\n",
    "plt.plot(Nc,score)\n",
    "plt.xlabel('Number of Clusters')\n",
    "plt.ylabel('Score')\n",
    "plt.title('Elbow Curve')\n",
    "plt.show()"
   ]
  },
  {
   "cell_type": "code",
   "execution_count": 33,
   "metadata": {},
   "outputs": [],
   "source": [
    "nGroups = 6\n",
    "kmeans = KMeans(n_clusters= nGroups, random_state=0).fit(vectorizedPhrases)"
   ]
  },
  {
   "cell_type": "code",
   "execution_count": 34,
   "metadata": {},
   "outputs": [
    {
     "data": {
      "text/plain": [
       "array([2, 5, 5, 5, 4, 5, 0, 3, 1, 5, 3, 3, 1, 4, 3, 2, 2, 0, 0, 1, 5, 3,\n",
       "       2, 1, 5, 5, 1, 1, 5, 3, 1, 3, 5, 4, 1, 2, 1, 1, 3, 0, 5, 4, 4, 2,\n",
       "       2, 1, 0, 2, 1, 5, 4, 1, 2, 1, 3, 0, 4, 2, 3, 1, 2, 5, 1, 3, 0, 4,\n",
       "       2, 5, 3, 2, 3, 2, 5, 2, 3, 5, 2, 2, 2, 5, 1, 5, 2, 1, 2, 5, 1, 5,\n",
       "       4, 5, 4, 1, 4, 5, 1, 0, 2, 5, 1, 5, 2, 2, 4, 2, 1, 1, 1, 2, 1, 3,\n",
       "       4, 5, 4, 2, 2, 0, 1, 0, 5, 1, 2, 1, 2, 2, 3, 2, 1, 3, 0, 4, 3, 5,\n",
       "       1, 3, 4, 5, 1, 5, 5, 1, 5, 2, 4, 1, 4, 4, 5, 5, 1, 5, 1, 0, 1, 5,\n",
       "       4, 4, 5, 4, 5, 5, 2, 1, 2, 5, 5, 4, 2], dtype=int32)"
      ]
     },
     "execution_count": 34,
     "metadata": {},
     "output_type": "execute_result"
    }
   ],
   "source": [
    "labels = kmeans.labels_\n",
    "labels"
   ]
  },
  {
   "cell_type": "code",
   "execution_count": 20,
   "metadata": {},
   "outputs": [],
   "source": [
    "cluster_centers = kmeans.cluster_centers_"
   ]
  },
  {
   "cell_type": "code",
   "execution_count": 35,
   "metadata": {},
   "outputs": [],
   "source": [
    "phrasesPorGrupo = []\n",
    "for index in range(0,nGroups):\n",
    "    phrasesPorGrupo.append([])\n",
    "\n",
    "for index in range(0,len(labels)):\n",
    "    for catIndex in range(0,nGroups):\n",
    "        if labels[index] == catIndex:\n",
    "            phrasesPorGrupo[catIndex].append(phrases[index])"
   ]
  },
  {
   "cell_type": "code",
   "execution_count": 36,
   "metadata": {},
   "outputs": [
    {
     "data": {
      "text/plain": [
       "['cita',\n",
       " 'paso peatonal',\n",
       " 'solicita mejora señalizacion horizontal cl 517',\n",
       " 'mejorar tramitación electrónica',\n",
       " 'cierre camino vecinal',\n",
       " 'mejoras tecnológicas ámbito rural',\n",
       " 'cierre camino público',\n",
       " 'limpieza solar',\n",
       " 'licencia ambiental',\n",
       " 'sistema operativo móvil ios',\n",
       " 'falta contestación escrito',\n",
       " 'queja actuaciones cámara propiedad urbana fianza']"
      ]
     },
     "execution_count": 36,
     "metadata": {},
     "output_type": "execute_result"
    }
   ],
   "source": [
    "phrasesPorGrupo[0]"
   ]
  },
  {
   "cell_type": "code",
   "execution_count": 37,
   "metadata": {},
   "outputs": [
    {
     "data": {
      "text/plain": [
       "['exigencia de uso de navegador internet explorer para trámites electrónicos',\n",
       " 'darse de alta en bec mediante sistema cl@ve',\n",
       " 'el interesa sugiere abaratar precios del transporte del tren de cercanías de segovia-madrid',\n",
       " 'alegaciones a la plantilla de respuestas del primer ejercicio de la oposición para acceso al cuerpo de policía local',\n",
       " 'la interesada se queja de eliminación de líneas regulares de transporte público en santa mª la real de nieva',\n",
       " 'desacuerdo con asignación de cotos sobrantes de pesca en salamanca',\n",
       " 'mejora carretera cl-501 entrada pueblo la adrada',\n",
       " 'se requiere contestación y aportación documentos relacionados en el \"solicita\" del escrito de 22 de noviembre de 2021',\n",
       " 'el interesado denuncia situcación de la ocupación por roturación de vias pecuarias',\n",
       " 'mal funcionamiento nuevo sistema de notificaciones electrónicas.',\n",
       " 'solicitud de servicio de autobús a escuela capacitación agraria segovis',\n",
       " 'notificación electrónica. enlace al nuevo sistema de notificaciones',\n",
       " 'contaminación por actividades de combustión de pellets',\n",
       " 'falta de vigilancia en zona de barbacoas en verano',\n",
       " 'malestar con con falta de resolución expresa de su solicitud',\n",
       " 'críticas a la exigencia de internet explorer en trámites administrativos',\n",
       " 'vehículo del servicio de medio ambiente que aparca en vado vecinal obstruyendo el paso',\n",
       " 'problemas de conexión a internet',\n",
       " 'errores a la hora de presentar declaración responsable de celebración de monterías y/o ganchos',\n",
       " 'desacuerdo con asignación de permisos de pesca en ponferrada',\n",
       " 'reclamación por la mala gestión de la administración en el arreglo de zona de acceso a explotación ganadera',\n",
       " 'sanción de tráfico por práctica irregular de castellana de autopistas s.a.',\n",
       " 'aclaración sobre legislación aplicable a requisitos para alquiler de vivienda',\n",
       " 'el sistema informatico no funciona',\n",
       " 'queja sobre medio ambiente y residuos',\n",
       " 'protección contra incendios forestales. contestación a queja',\n",
       " 'construcción velatorio en toral de los vados',\n",
       " 'deficiencias en carril bici de la carretera de puente ducero',\n",
       " 'bu-562. falta barrera de protección',\n",
       " 'atención inadecuada en el servicio de financiacion y ayudas a la vivienda',\n",
       " 'certificadi competencias',\n",
       " 'solicita poder realizar trámites con la administración pública de forma presencial',\n",
       " 'diversas cuestioones relativas a un proyecto de reparcelación',\n",
       " 'sugiere que se reanude la atención en la mesa habilitada al efecto',\n",
       " 'el interesado sugiere catalogar la zona de cosntanzana y protegerla y evitar prácticas agrícolas',\n",
       " 'horario de clases de curso del cap en miranda de ebro',\n",
       " 'falta de señalización de escalón en aparcamietno del parque natural laguna negra y circos glaciares de urbión',\n",
       " 'la interesada se queja de la prestación del servicio de la ruta escolar de su hijo']"
      ]
     },
     "execution_count": 37,
     "metadata": {},
     "output_type": "execute_result"
    }
   ],
   "source": [
    "phrasesPorGrupo[1]"
   ]
  },
  {
   "cell_type": "code",
   "execution_count": 38,
   "metadata": {},
   "outputs": [
    {
     "data": {
      "text/plain": [
       "['falta de respuesta a solicitud',\n",
       " 'queja relacionada con la presentada el día 8 noviembre 2021',\n",
       " 'falta de aviso en notificaciones electrónicas',\n",
       " 'modificación de normativa de pesca para el año 2022 para los embalses de pontón alto y puente alta (sg)',\n",
       " 'incumplimiento normativa de acampada',\n",
       " 'incorporar sistema cl@ve para trámites administrativos',\n",
       " 'limpieza cañada de ganado',\n",
       " 'falta de información en notificaciones electrónicas',\n",
       " 'cierre alerta 112 sin contactar con menor que llamó al 112',\n",
       " 'señales de carretera incorrectas',\n",
       " 'mal funcionamiento aplicacvión permisos pesca',\n",
       " 'demora en otorgar vivienda proteccion oficial por violencia de género',\n",
       " 'atencion deficiente territorial de medio ambiente valladolid',\n",
       " 'carteles aparcamiento carbanas playa pita',\n",
       " 'no atención telefónica',\n",
       " 'señal luminosa no funciona de noche',\n",
       " 'paso de camiones por carretera inapropiada',\n",
       " 'limpieza cunetas carretera cl-602',\n",
       " 'falta de atención en la sección de vivienda pública',\n",
       " 'alta velocidad al atravesar la localidad.',\n",
       " 'notificaciones buzón electrónico del ciudadano',\n",
       " 'no servicio oficina caza y pesca (planta baja)',\n",
       " 'servicio precario e insuficiente transporte',\n",
       " 'falta de medios telemáticos para realizar junta arbitral de transportes',\n",
       " 'pinos existentes en el monte público lindantes con urbanización',\n",
       " 'solicita cambio localidad examen y otras cuestiones por puerperio',\n",
       " 'trato inadecuado por personal del 112',\n",
       " 'trato recibido en el 112',\n",
       " 'aumentar capacidad subir documentos en teletramitación',\n",
       " 'vertido de san en la parcela 79 pol 23 de almeida de sayago',\n",
       " 'prtoblemas con mac en sede electrónica',\n",
       " 'requisito ite para ayudas rehabilitación de vivienda',\n",
       " 'solicita devolución del importe de permisos de cotos',\n",
       " 'el interesado se queja porque el autobús de la línea 5 del servicio metropolitano no llegó los días 2 y 4 de enero e',\n",
       " 'contestación urgente a solicitud formulada por correo electrónico el día 21 de enero de 2021']"
      ]
     },
     "execution_count": 38,
     "metadata": {},
     "output_type": "execute_result"
    }
   ],
   "source": [
    "phrasesPorGrupo[2]"
   ]
  },
  {
   "cell_type": "code",
   "execution_count": 39,
   "metadata": {},
   "outputs": [
    {
     "data": {
      "text/plain": [
       "['incidencias en la carretera za-504, que ha sido recientemente rehabilitada',\n",
       " 'no usar las mascarillas en el lugar de trabajo',\n",
       " 'señalización en entrada carretera a peñaranda de bracamonte',\n",
       " 'que en medio ambiente no ha sido atendida.',\n",
       " 'no satisfecho con contestación envíada a queja anterior',\n",
       " 'la interesada se queja de retrasos en la línea arévalo-nava de la asunción-segovia',\n",
       " 'los pasales de madera del puente se encuentran en un estado ruinoso',\n",
       " 'deasignación permiso arec',\n",
       " 'queja por mal estado carretera tordillos',\n",
       " 'el iteresado sugiere que se de una solución al estado, lamentable, de la carretera sg-322',\n",
       " 'el interesado se queja porque se ha asfaltado mal un agujero en la carretera',\n",
       " 'la interesada propone nueva ubiación de los autobuses',\n",
       " 'reiteración mal estado rejilla crta. va-223',\n",
       " 'mal estado de la señalización vertical en la bu-532',\n",
       " 'disconformidad con la contestación dada a la q-14457',\n",
       " 'mal estado de carretera',\n",
       " 'mal estado de la carretera autónomica cl-612 (carretera zamora villalpando) en el primer tramo desde la capital hasta aspariegos',\n",
       " 'el interesado se quja del estado del firme de la carretera sg-723',\n",
       " 'la interesada se queja del estado de la carretera cl-607']"
      ]
     },
     "execution_count": 39,
     "metadata": {},
     "output_type": "execute_result"
    }
   ],
   "source": [
    "phrasesPorGrupo[3]"
   ]
  },
  {
   "cell_type": "code",
   "execution_count": 40,
   "metadata": {},
   "outputs": [
    {
     "data": {
      "text/plain": [
       "['buzón notificaciones electrónicas',\n",
       " 'notificaciones electrónicas',\n",
       " 'obligacion relacionarse electrónicamente',\n",
       " 'petición mejora plataformas junta cyl',\n",
       " 'colocación badenes',\n",
       " 'unificación criterios en sede electrónica',\n",
       " 'imposibilidad contacto telefónico',\n",
       " 'pide que atiendan de forma presencial',\n",
       " 'falta de luz en carretera autonomica',\n",
       " 'notificaciones electrónicas',\n",
       " 'mala conservación carretera fompedraza',\n",
       " 'falta de atención',\n",
       " 'falta cobertura internet y telefonía móvil',\n",
       " 'solicitud devolución pagos cotos pesca por cierre perimetral',\n",
       " 'señalización comienzo pueblo',\n",
       " 'trato inadecuado agente medioambiental',\n",
       " 'mal estado márgenes río tormes',\n",
       " 'información insuficiente para anulación permisos pesca',\n",
       " 'devolución importe licencia de caza temporada 2020/2021',\n",
       " 'dificultad en tramitación electrónica para solicitar tarjeta club de los 60',\n",
       " 'derecho a trámites electrónicos',\n",
       " 'cebos utilizados para pesca',\n",
       " 'diámetro escaso tuberías agua za-925']"
      ]
     },
     "execution_count": 40,
     "metadata": {},
     "output_type": "execute_result"
    }
   ],
   "source": [
    "phrasesPorGrupo[4]"
   ]
  },
  {
   "cell_type": "code",
   "execution_count": 41,
   "metadata": {},
   "outputs": [
    {
     "data": {
      "text/plain": [
       "['notificaciones sin indicación del titular al que van dirigidas',\n",
       " 'solicita revisión de altura máxima de edificación en la cisterniga (vallladolid)',\n",
       " 'normas subsidiarias municikpales consistente en la modificacion el ambito desarrolo del area especial ae.ps-4 y re¡mision a la comision de urbanismo.',\n",
       " 'no funciona la máquina de bonos de transporte de la estación de autobuses',\n",
       " 'transporte a la demanda. merindades',\n",
       " 'reacondicionamiento camino navarredondilla a navatalgordo',\n",
       " 'el interesado se queja de la eliminación de líneas de trasporte en santa mª la real de nieva',\n",
       " 'la interesada se queja de la supresión de líneas de transporte en santa mª la real de nieva',\n",
       " 'rechazada y derivada a servicios centrales  por ser competencia del 112 (fomento y medio ambiente)',\n",
       " 'el interesado teme riesgo de inundaciones por estado de puentes en madrona',\n",
       " 'mal funcionamiento formulario para presentar telematicamente para medioambiente valladolid',\n",
       " 'retraso autobus de santervas de campos',\n",
       " 'supervisión e la calidad de las aguas del pantano de la cuerda del pozo',\n",
       " 'registro de medio ambiente no está operativo a las 13.50 horas y no abren la puerta',\n",
       " 'denuncia desafectacion parcelas ganadero  a medio ambiente.',\n",
       " 'el interesado quiere que le envien el certificado de transporte por carretera',\n",
       " 'instalacion terraza muy cerca de la carretera za-925.',\n",
       " 'mal estado salida 36 a a-601',\n",
       " 'la interesada se queja del retraso de la linea de nava de la asunción a segovia',\n",
       " 'falta de cuidado en puentes sobre las vías za-925 y za-921.',\n",
       " 'imposiblidad de conectarse a internet para renovación licencia de caza e imposibilidad de tramitación en ventanilla ya que está cerrada',\n",
       " 'poder hacer tramitación electrónica con certificado digital bajo sistema operativo debian (gnu-linux)',\n",
       " 'solicita que se habilite la posibilidad de que un tercero pueda presentar documentación por otro solicitante en determinados trámites administrativos.',\n",
       " 'no hay personal de medio ambiente en la planta baja y no está permitido subir',\n",
       " 'incumplmiiento normativa medioambiental por la empresa kronospan',\n",
       " 'el interesado pregunta por las obras de la cl-601',\n",
       " 'peligrosidad en la carretera del espinar',\n",
       " 'lal interesada se queja del mal estado de la cl 607',\n",
       " 'adopción de una estrategia de mantenimiento  de la carretera za-925 en periodo invernal.',\n",
       " 'la interesada se queja de retrasos en el transporte escolar',\n",
       " 'terraza con una verja perimetral atornillada a la carretera',\n",
       " 'la interesada se queja de aglomeraciones en el autobús',\n",
       " 'imposibilidad de hacer el trámite electrónicamente',\n",
       " 'falta de contestación y actuación en queja sobre reparación alcantarilla en ctra. va-223 en fompedraza',\n",
       " 'no ha sido atendido presencialmente en fomento.',\n",
       " 'queja sobre nuevo sistema de elección de cotos.',\n",
       " 'mal funcionamiento de aplicación de subvención iapa 3065',\n",
       " 'reserva de fecha para cotos de pesca de villafeliz (león)',\n",
       " 'no limpieza de carretera bu-945',\n",
       " 'normalidad post-covid']"
      ]
     },
     "execution_count": 41,
     "metadata": {},
     "output_type": "execute_result"
    }
   ],
   "source": [
    "phrasesPorGrupo[5]"
   ]
  }
 ],
 "metadata": {
  "kernelspec": {
   "display_name": "Python 3 (ipykernel)",
   "language": "python",
   "name": "python3"
  },
  "language_info": {
   "codemirror_mode": {
    "name": "ipython",
    "version": 3
   },
   "file_extension": ".py",
   "mimetype": "text/x-python",
   "name": "python",
   "nbconvert_exporter": "python",
   "pygments_lexer": "ipython3",
   "version": "3.10.6"
  },
  "vscode": {
   "interpreter": {
    "hash": "e7370f93d1d0cde622a1f8e1c04877d8463912d04d973331ad4851f04de6915a"
   }
  }
 },
 "nbformat": 4,
 "nbformat_minor": 2
}
