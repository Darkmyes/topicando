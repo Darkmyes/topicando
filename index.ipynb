{
 "cells": [
  {
   "cell_type": "markdown",
   "metadata": {},
   "source": [
    "# Topicando (AlPHA)\n",
    "Topicando es un proyecto que busca ayudar a obtener los tópicos más comentados por un grupo de personas, obteniendo palabras clave en forma de ranking y grafos, para poder analizar necesidades, reclamos, comentarios, tendencias e ideas de la comunidad de forma masiva.\n",
    "\n",
    "En base a un array de frases como input se procesarán y analizarán los datos recolectados para poder tener un contexto de un tema de debate o discusión, siendo asi que:\n",
    "- Presenta en una lista ordenada de mayor a menor las palabras más utilizadas diferenciadas con stemming o lemmatizing\n",
    "- En base a las x palabras más usadas escogidas por estadistica o por número fijo, se crean clusters con KNN, KMeans, etc o solo con que contengan a esta palabra y se muestran grafos por cada palabra elegida como centroide\n",
    "- De cada cluster o agrupación se debe mostrar las palabras más usadas"
   ]
  },
  {
   "cell_type": "markdown",
   "metadata": {},
   "source": [
    "## Imports"
   ]
  },
  {
   "cell_type": "code",
   "execution_count": 1,
   "metadata": {},
   "outputs": [],
   "source": [
    "import spacy\n",
    "from unidecode import unidecode\n",
    "from string import punctuation \n",
    "from nltk.corpus import stopwords\n",
    "from collections import Counter\n",
    "from spacy.matcher import Matcher\n",
    "import pandas as pd\n",
    "import numpy as np"
   ]
  },
  {
   "cell_type": "code",
   "execution_count": 2,
   "metadata": {},
   "outputs": [],
   "source": [
    "class TopicandoV1:\n",
    "    nlp = None\n",
    "    phrases = []\n",
    "    entities = []\n",
    "    relations = []\n",
    "    dictWords = {}\n",
    "    \n",
    "    def __init__(self, spacyLang, phrases):\n",
    "        self.nlp = spacy.load(spacyLang)\n",
    "        self.phrases = phrases\n",
    "        self.entities = []\n",
    "        self.relations = []\n",
    "        self.dictWords = {}\n",
    "    \n",
    "    def getVectorizedPhrases(self):\n",
    "        values = []\n",
    "        for phrase in self.phrases:\n",
    "            vector = np.zeros(300)\n",
    "            doc = self.nlp(phrase)\n",
    "            for token in doc:\n",
    "                if not token.is_stop and not token.is_punct:\n",
    "                    #print(token.text, token.pos_, token.dep_) #eliminar det\n",
    "                    vector = vector + np.array(token.vector_norm)\n",
    "            values.append(vector / len(doc))\n",
    "        return np.array(values)\n",
    "\n",
    "    def getMostUsedWordsInCorpus(self, useLemma = True):\n",
    "        fullText = \"\"\n",
    "        for phrase in self.phrases:\n",
    "            fullText += (phrase + \" \")\n",
    "        doc = self.nlp(fullText)\n",
    "\n",
    "        words = [(token.lemma_ if useLemma else token.text)\n",
    "            for token in doc\n",
    "            if not token.is_stop and not token.is_punct]\n",
    "\n",
    "        word_freq = Counter(words)\n",
    "        common_words = word_freq.most_common()\n",
    "        return common_words\n",
    "    \n",
    "    def getWordCountOfEntitiesAndRelations(self):\n",
    "        dictWords = {}\n",
    "        for entitiesPair in self.entities:\n",
    "            for word in entitiesPair:\n",
    "                if word not in dictWords.keys():\n",
    "                    dictWords[word] = 1\n",
    "                else:\n",
    "                    dictWords[word] += 1\n",
    "        for relations in self.relations:\n",
    "            for word in relations:\n",
    "                if word not in dictWords.keys():\n",
    "                    dictWords[word] = 1\n",
    "                else:\n",
    "                    dictWords[word] += 1\n",
    "\n",
    "        self.dictWords = dictWords\n",
    "        return dictWords\n",
    "\n",
    "    def getMostUsedWordsOfEntitiesAndRelations(self, useLemma = True):\n",
    "        self.getWordCountOfEntitiesAndRelations()\n",
    "        return dict(sorted(self.dictWords.items(), key=lambda item: item[1], reverse=True))\n",
    "    \n",
    "    def searchEntitiesAndRelations(self):\n",
    "        self.entities = []\n",
    "        for phrase in self.phrases:\n",
    "            self.entities.append(self.__getEntities(phrase))\n",
    "        \n",
    "        self.relations = []\n",
    "        for phrase in self.phrases:\n",
    "            self.relations.append(self.__getRelations(phrase))\n",
    "    \n",
    "    def getSourceEdgeTargetDataFrame(self,sourcesToSearch=[], edgesToSearch=[], targetsToSearch=[]):\n",
    "        phraseLength = len(self.entities)\n",
    "        sources = []\n",
    "        targets = []\n",
    "        edges = []\n",
    "        \n",
    "        for index in range(0, phraseLength):\n",
    "            for relation in self.relations[index]:\n",
    "                source = self.entities[index][0]\n",
    "                target = self.entities[index][1]\n",
    "\n",
    "                if (len(sourcesToSearch) + len(targetsToSearch) + len(edgesToSearch)) == 0 or (relation in edgesToSearch or source in sourcesToSearch or target in targetsToSearch):\n",
    "                    sources.append(self.entities[index][0])\n",
    "                    targets.append(self.entities[index][1])\n",
    "                    edges.append(relation)\n",
    "\n",
    "        sourceEdgeTargetDataframe = pd.DataFrame({'source':sources, 'target':targets, 'edge':edges})\n",
    "        return sourceEdgeTargetDataframe\n",
    "    \n",
    "    def getSourcesEdgesTargetsEdgesArray(self, sourcesToSearch=[], edgesToSearch=[], targetsToSearch=[]):\n",
    "        phraseLength = len(self.entities)\n",
    "        data = []\n",
    "        \n",
    "        for index in range(0, phraseLength):\n",
    "            for relation in self.relations[index]:\n",
    "                source = self.entities[index][0]\n",
    "                target = self.entities[index][1]\n",
    "\n",
    "                if (len(sourcesToSearch) + len(targetsToSearch) + len(edgesToSearch)) == 0 or (relation in edgesToSearch or source in sourcesToSearch or target in targetsToSearch):\n",
    "                    if source != '':\n",
    "                        data.append([source, relation])\n",
    "                    if target != '':\n",
    "                        data.append([target, relation])\n",
    "\n",
    "        return data\n",
    "    \n",
    "    def getSourcesTargetsArray(self, sourcesToSearch=[], edgesToSearch=[], targetsToSearch=[]):\n",
    "        phraseLength = len(self.entities)\n",
    "        data = []\n",
    "        \n",
    "        for index in range(0, phraseLength):\n",
    "            for relation in self.relations[index]:\n",
    "                source = self.entities[index][0]\n",
    "                target = self.entities[index][1]\n",
    "\n",
    "                if (len(sourcesToSearch) + len(targetsToSearch) + len(edgesToSearch)) == 0 or (relation in edgesToSearch or source in sourcesToSearch or target in targetsToSearch):\n",
    "                    if source != '' and target != '':\n",
    "                        data.append([source, target])\n",
    "\n",
    "        return data\n",
    "\n",
    "    def getSourceEdgeTargetEdgeDataFrame(self, sourcesToSearch=[], edgesToSearch=[], targetsToSearch=[]):\n",
    "        phraseLength = len(self.entities)\n",
    "        sources = []\n",
    "        targets = []\n",
    "        edges = []\n",
    "        \n",
    "        for index in range(0, phraseLength):\n",
    "            for relation in self.relations[index]:\n",
    "                source = self.entities[index][0]\n",
    "                target = self.entities[index][1]\n",
    "\n",
    "                if (len(sourcesToSearch) + len(targetsToSearch) + len(edgesToSearch)) == 0 or (relation in edgesToSearch or source in sourcesToSearch or target in targetsToSearch):\n",
    "                    if source != '':\n",
    "                        sources.append(self.entities[index][0])\n",
    "                        targets.append(relation)\n",
    "                        edges.append(relation)\n",
    "                    if target != '':\n",
    "                        sources.append(self.entities[index][1])\n",
    "                        targets.append(relation)\n",
    "                        edges.append(relation)\n",
    "\n",
    "        sourceEdgeTargetDataframe = pd.DataFrame({'source':sources, 'target':targets, 'edge':edges})\n",
    "        return sourceEdgeTargetDataframe\n",
    "\n",
    "    def __getRelations(self, phrase):\n",
    "        doc = self.nlp(phrase)\n",
    "\n",
    "        matcher = Matcher(self.nlp.vocab)\n",
    "        pattern = [\n",
    "            {'POS':'VERB','OP':\"?\"},\n",
    "            {'POS':'AUX','OP':\"?\"},\n",
    "        ]\n",
    "\n",
    "        matcher.add(\"matching_1\", [pattern]) \n",
    "        matches = matcher(doc)\n",
    "\n",
    "        if len(matches) == 0:\n",
    "            return [\"haber\"]\n",
    "\n",
    "        return [doc[match[1]:match[2]].lemma_ for match in matches]\n",
    "\n",
    "    def __getEntities(self, phrase):\n",
    "        ent1 = \"\"\n",
    "        ent2 = \"\"\n",
    "\n",
    "        prv_tok_dep = \"\"    \n",
    "        prv_tok_text = \"\"   \n",
    "\n",
    "        prefix = \"\"\n",
    "        modifier = \"\"\n",
    "\n",
    "        prv_token = None\n",
    "\n",
    "        tokens = []\n",
    "\n",
    "        for tok in self.nlp(phrase):\n",
    "            if tok.dep_ != \"punct\":\n",
    "                if tok.dep_ == \"compound\":\n",
    "                    prefix = tok.text\n",
    "                if prv_tok_dep == \"compound\":\n",
    "                    prefix = prv_tok_text + \" \"+ tok.text\n",
    "                if tok.dep_.endswith(\"mod\") == True:\n",
    "                    modifier = tok.text\n",
    "                if prv_tok_dep == \"compound\":\n",
    "                    modifier = prv_tok_text + \" \"+ tok.text\n",
    "                if (tok.dep_.find(\"subj\") == True or tok.dep_ == \"subj\") and tok.pos_ != \"PRON\":\n",
    "                    ent1 = modifier + \" \" + prefix + \" \"+ tok.lemma_\n",
    "                    prefix = \"\"\n",
    "                    modifier = \"\"\n",
    "                    prv_tok_dep = \"\"\n",
    "                    prv_tok_text = \"\"\n",
    "                    tokens.append(ent1)\n",
    "                if tok.dep_.find(\"obj\") == True:\n",
    "                    ent2 = modifier + \" \" + prefix + \" \" + tok.lemma_\n",
    "                    tokens.append(ent2)\n",
    "                if tok.dep_ == \"obj\":\n",
    "                    ent2 = tok.lemma_\n",
    "                    tokens.append(ent2)\n",
    "                if ent1.strip() == \"\" and ent2.find(tok.lemma_) == -1:\n",
    "                    if tok.dep_.find(\"mod\") == True and tok.pos_ == \"ADJ\":\n",
    "                        ent1 = tok.lemma_\n",
    "                        tokens.append(ent1)\n",
    "                    if tok.pos_ == \"NOUN\":\n",
    "                        ent1 = tok.lemma_\n",
    "                        tokens.append(ent1)\n",
    "                if ent2.strip() == \"\" and ent1.find(tok.lemma_) == -1:\n",
    "                    if tok.dep_.find(\"mod\") == True and tok.pos_ == \"ADJ\":\n",
    "                        ent2 = tok.lemma_\n",
    "                        tokens.append(ent2)\n",
    "                    if tok.pos_ == \"ADJ\":\n",
    "                        ent2 = tok.lemma_\n",
    "                        tokens.append(ent2)\n",
    "                    if tok.pos_ == \"NOUN\":\n",
    "                        ent2 = tok.lemma_\n",
    "                        tokens.append(ent2)\n",
    "                    if (prv_token != None and prv_token.pos_ == \"AUX\") and (tok.pos_ == \"VERB\" or tok.pos_ == \"ADJ\"):\n",
    "                        ent2 = tok.lemma_\n",
    "                        tokens.append(ent2)\n",
    "                prv_tok_dep = tok.dep_\n",
    "                prv_tok_text = tok.text\n",
    "                prv_token = tok\n",
    "\n",
    "        #return [token.strip() for  token in tokens]\n",
    "        return [ent1.strip(), ent2.strip()]"
   ]
  },
  {
   "cell_type": "code",
   "execution_count": 3,
   "metadata": {},
   "outputs": [],
   "source": [
    "import pandas as pd\n",
    "import networkx as nx\n",
    "import matplotlib.pyplot as plt\n",
    "import scipy"
   ]
  },
  {
   "cell_type": "markdown",
   "metadata": {},
   "source": [
    "## Data"
   ]
  },
  {
   "cell_type": "code",
   "execution_count": 4,
   "metadata": {},
   "outputs": [],
   "source": [
    "phrases = [\n",
    "    \"No hay baños limpios\",\n",
    "    \"los baños no se limpian\",\n",
    "    \"los baños están sucios\",\n",
    "    \"los vecinos hacen mucho ruido\",\n",
    "    \"la vecina todo el día grita\",\n",
    "    \"la vecina grita todo el día\",\n",
    "    \"el vecino prende la radio todo el día\",\n",
    "    \"ya no hay respeto a los mayores\",\n",
    "    \"me acosan en la calle del barrio\",\n",
    "    \"los viejos miran mucho mi cuerpo\",\n",
    "    \"morbosean a mis familiares\",\n",
    "    \"los viejos son pervertidos\",\n",
    "    \"las calles están sucias\",\n",
    "    \"ya no hay calles limpias\",\n",
    "    \"los perros dañan la basura\",\n",
    "    \"hay muchos perros que dejan sus desechos en la calle\",\n",
    "    \"mucha mierda de perro en la acera\",\n",
    "]"
   ]
  },
  {
   "cell_type": "code",
   "execution_count": 43,
   "metadata": {},
   "outputs": [],
   "source": [
    "data = pd.read_csv('./sugerencias-y-quejas-de-los-ciudadanos (1).csv',delimiter=';')\n",
    "data = data.dropna()\n",
    "data[data['Referencia'].apply(lambda x: isinstance(x, (str, bytes)))]\n",
    "phrases = [ phrase.lower() for phrase in data.iloc[:,6].values]"
   ]
  },
  {
   "cell_type": "markdown",
   "metadata": {},
   "source": [
    "## Functions"
   ]
  },
  {
   "cell_type": "code",
   "execution_count": 44,
   "metadata": {},
   "outputs": [],
   "source": [
    "topicando = TopicandoV1(\"es_core_news_lg\",phrases)"
   ]
  },
  {
   "cell_type": "code",
   "execution_count": 6,
   "metadata": {
    "collapsed": true
   },
   "outputs": [
    {
     "data": {
      "text/plain": [
       "[('calle', 4),\n",
       " ('baño', 3),\n",
       " ('vecino', 3),\n",
       " ('perro', 3),\n",
       " ('limpio', 2),\n",
       " ('sucio', 2),\n",
       " ('gritar', 2),\n",
       " ('viejo', 2),\n",
       " ('limpiar', 1),\n",
       " ('ruido', 1),\n",
       " ('vecina', 1),\n",
       " ('prender', 1),\n",
       " ('radio', 1),\n",
       " ('respeto', 1),\n",
       " ('mayor', 1),\n",
       " ('acosar', 1),\n",
       " ('barrio', 1),\n",
       " ('mirar', 1),\n",
       " ('cuerpo', 1),\n",
       " ('morbosean', 1),\n",
       " ('familiar', 1),\n",
       " ('pervertido', 1),\n",
       " ('dañar', 1),\n",
       " ('basura', 1),\n",
       " ('dejar', 1),\n",
       " ('desecho', 1),\n",
       " ('mierda', 1),\n",
       " ('acera', 1)]"
      ]
     },
     "execution_count": 6,
     "metadata": {},
     "output_type": "execute_result"
    }
   ],
   "source": [
    "topicando.getMostUsedWordsInCorpus(useLemma = True)"
   ]
  },
  {
   "cell_type": "code",
   "execution_count": 45,
   "metadata": {},
   "outputs": [],
   "source": [
    "topicando.searchEntitiesAndRelations()"
   ]
  },
  {
   "cell_type": "code",
   "execution_count": 29,
   "metadata": {
    "collapsed": true
   },
   "outputs": [
    {
     "data": {
      "text/plain": [
       "{'limpio': 2,\n",
       " 'baño': 3,\n",
       " '': 3,\n",
       " 'sucio': 2,\n",
       " 'vecino': 3,\n",
       " 'ruido': 1,\n",
       " 'día': 2,\n",
       " 'vecina': 1,\n",
       " 'radio': 1,\n",
       " 'respeto': 1,\n",
       " 'calle': 4,\n",
       " 'yo': 1,\n",
       " 'viejo': 2,\n",
       " 'cuerpo': 1,\n",
       " 'familiar': 1,\n",
       " 'pervertir': 2,\n",
       " 'perro': 1,\n",
       " 'basura': 1,\n",
       " 'desecho': 1,\n",
       " 'mierda': 1,\n",
       " 'acera': 1,\n",
       " 'haber': 5,\n",
       " 'limpiar': 1,\n",
       " 'estar': 2,\n",
       " 'hacer': 1,\n",
       " 'gritar': 2,\n",
       " 'prender': 1,\n",
       " 'acosar': 1,\n",
       " 'mirar': 1,\n",
       " 'morbosear': 1,\n",
       " 'ser': 1,\n",
       " 'dañar': 1,\n",
       " 'dejar': 1}"
      ]
     },
     "execution_count": 29,
     "metadata": {},
     "output_type": "execute_result"
    }
   ],
   "source": [
    "topicando.getWordCountOfEntitiesAndRelations()"
   ]
  },
  {
   "cell_type": "code",
   "execution_count": 9,
   "metadata": {
    "collapsed": true
   },
   "outputs": [
    {
     "data": {
      "text/plain": [
       "{'haber': 5,\n",
       " 'calle': 4,\n",
       " 'baño': 3,\n",
       " '': 3,\n",
       " 'vecino': 3,\n",
       " 'limpio': 2,\n",
       " 'sucio': 2,\n",
       " 'día': 2,\n",
       " 'viejo': 2,\n",
       " 'pervertir': 2,\n",
       " 'estar': 2,\n",
       " 'gritar': 2,\n",
       " 'ruido': 1,\n",
       " 'vecina': 1,\n",
       " 'radio': 1,\n",
       " 'respeto': 1,\n",
       " 'yo': 1,\n",
       " 'cuerpo': 1,\n",
       " 'familiar': 1,\n",
       " 'perro': 1,\n",
       " 'basura': 1,\n",
       " 'desecho': 1,\n",
       " 'mierda': 1,\n",
       " 'acera': 1,\n",
       " 'limpiar': 1,\n",
       " 'hacer': 1,\n",
       " 'prender': 1,\n",
       " 'acosar': 1,\n",
       " 'mirar': 1,\n",
       " 'morbosear': 1,\n",
       " 'ser': 1,\n",
       " 'dañar': 1,\n",
       " 'dejar': 1}"
      ]
     },
     "execution_count": 9,
     "metadata": {},
     "output_type": "execute_result"
    }
   ],
   "source": [
    "topicando.getMostUsedWordsOfEntitiesAndRelations()"
   ]
  },
  {
   "cell_type": "code",
   "execution_count": 10,
   "metadata": {},
   "outputs": [
    {
     "name": "stdout",
     "output_type": "stream",
     "text": [
      "   source target     edge\n",
      "0  limpio   baño    haber\n",
      "1    baño         limpiar\n",
      "2    baño  sucio    estar\n",
      "3  vecino  ruido    hacer\n",
      "4  vecino    día   gritar\n",
      "   source target     edge\n",
      "0  limpio   baño    haber\n",
      "1    baño         limpiar\n",
      "2    baño  sucio    estar\n",
      "3  limpio  calle    haber\n"
     ]
    }
   ],
   "source": [
    "kg_df = topicando.getSourceEdgeTargetDataFrame()\n",
    "kg_df2 = topicando.getSourceEdgeTargetDataFrame(sourcesToSearch=[\"limpio\",\"baño\"])\n",
    "print(kg_df[0:5])\n",
    "print(kg_df2[0:5])"
   ]
  },
  {
   "cell_type": "code",
   "execution_count": 11,
   "metadata": {},
   "outputs": [
    {
     "data": {
      "image/png": "[encoded data removed]",
      "text/plain": [
       "<Figure size 1200x1200 with 1 Axes>"
      ]
     },
     "metadata": {},
     "output_type": "display_data"
    }
   ],
   "source": [
    "G = nx.from_pandas_edgelist(kg_df, \"source\", \"target\", edge_attr=True, create_using=nx.MultiGraph())\n",
    "plt.figure(figsize=(12,12))\n",
    "\n",
    "pos = nx.spring_layout(G)\n",
    "nx.draw(G, with_labels=True, node_color='teal', edge_cmap=plt.cm.Blues, pos = pos)\n",
    "plt.show()"
   ]
  },
  {
   "cell_type": "code",
   "execution_count": 12,
   "metadata": {},
   "outputs": [
    {
     "data": {
      "image/png": "[encoded data removed]",
      "text/plain": [
       "<Figure size 1200x1200 with 1 Axes>"
      ]
     },
     "metadata": {},
     "output_type": "display_data"
    }
   ],
   "source": [
    "G = nx.from_pandas_edgelist(kg_df2, \"source\", \"target\", edge_attr=True, create_using=nx.MultiGraph())\n",
    "plt.figure(figsize=(12,12))\n",
    "\n",
    "pos = nx.spring_layout(G)\n",
    "nx.draw(G, with_labels=True, node_color='teal', edge_cmap=plt.cm.Blues, pos = pos)\n",
    "plt.show()"
   ]
  },
  {
   "cell_type": "code",
   "execution_count": 16,
   "metadata": {},
   "outputs": [
    {
     "name": "stdout",
     "output_type": "stream",
     "text": [
      "   source   target     edge\n",
      "0  limpio    haber    haber\n",
      "1    baño    haber    haber\n",
      "2    baño  limpiar  limpiar\n",
      "3    baño    estar    estar\n",
      "4   sucio    estar    estar\n",
      "   source   target     edge\n",
      "0  limpio    haber    haber\n",
      "1    baño    haber    haber\n",
      "2    baño  limpiar  limpiar\n",
      "3    baño    estar    estar\n",
      "4   sucio    estar    estar\n"
     ]
    }
   ],
   "source": [
    "kg_df = topicando.getSourceEdgeTargetEdgeDataFrame()\n",
    "kg_df2 = topicando.getSourceEdgeTargetEdgeDataFrame(sourcesToSearch=[\"limpio\",\"baño\"])\n",
    "print(kg_df[0:5])\n",
    "print(kg_df2[0:5])"
   ]
  },
  {
   "cell_type": "markdown",
   "metadata": {},
   "source": [
    "## Html Output"
   ]
  },
  {
   "cell_type": "code",
   "execution_count": 24,
   "metadata": {},
   "outputs": [],
   "source": [
    "from collections.abc import Iterable\n",
    "from highcharts import Highchart\n",
    "from IPython.core.display import HTML\n",
    "import json\n",
    "from IPython.display import Javascript"
   ]
  },
  {
   "cell_type": "code",
   "execution_count": 8,
   "metadata": {},
   "outputs": [
    {
     "data": {
      "application/javascript": [
       "require.config({\n",
       "    packages: [{\n",
       "        name: 'highcharts',\n",
       "        main: 'highcharts'\n",
       "    }],\n",
       "    paths: {\n",
       "        'highcharts': 'https://code.highcharts.com',\n",
       "        'networkgraph': 'https://code.highcharts.com/modules/networkgraph.js'\n",
       "    }\n",
       "});\n"
      ],
      "text/plain": [
       "<IPython.core.display.Javascript object>"
      ]
     },
     "metadata": {},
     "output_type": "display_data"
    }
   ],
   "source": [
    "%%javascript\n",
    "require.config({\n",
    "    packages: [{\n",
    "        name: 'highcharts',\n",
    "        main: 'highcharts'\n",
    "    }],\n",
    "    paths: {\n",
    "        'highcharts': 'https://code.highcharts.com',\n",
    "        'networkgraph': 'https://code.highcharts.com/modules/networkgraph.js'\n",
    "    }\n",
    "});"
   ]
  },
  {
   "cell_type": "code",
   "execution_count": 31,
   "metadata": {},
   "outputs": [
    {
     "ename": "NameError",
     "evalue": "name 'source' is not defined",
     "output_type": "error",
     "traceback": [
      "\u001b[0;31m---------------------------------------------------------------------------\u001b[0m",
      "\u001b[0;31mNameError\u001b[0m                                 Traceback (most recent call last)",
      "Cell \u001b[0;32mIn [31], line 6\u001b[0m\n\u001b[1;32m      2\u001b[0m \u001b[38;5;28;01mfrom\u001b[39;00m \u001b[38;5;21;01mIPython\u001b[39;00m\u001b[38;5;21;01m.\u001b[39;00m\u001b[38;5;21;01mdisplay\u001b[39;00m \u001b[38;5;28;01mimport\u001b[39;00m Javascript\n\u001b[1;32m      4\u001b[0m chart_data \u001b[38;5;241m=\u001b[39m []\n\u001b[0;32m----> 6\u001b[0m \u001b[38;5;28;01mfor\u001b[39;00m index \u001b[38;5;129;01min\u001b[39;00m \u001b[38;5;28mrange\u001b[39m(\u001b[38;5;241m0\u001b[39m, \u001b[38;5;28mlen\u001b[39m(source) \u001b[38;5;241m-\u001b[39m \u001b[38;5;241m1\u001b[39m):\n\u001b[1;32m      7\u001b[0m     \u001b[38;5;28;01mif\u001b[39;00m (source[index] \u001b[38;5;241m!=\u001b[39m \u001b[38;5;124m\"\u001b[39m\u001b[38;5;124m\"\u001b[39m):\n\u001b[1;32m      8\u001b[0m         chart_data\u001b[38;5;241m.\u001b[39mappend([source[index], relations[index]])\n",
      "\u001b[0;31mNameError\u001b[0m: name 'source' is not defined"
     ]
    }
   ],
   "source": [
    "import json\n",
    "from IPython.display import Javascript\n",
    "\n",
    "chart_data = []\n",
    "\n",
    "for index in range(0, len(source) - 1):\n",
    "    if (source[index] != \"\"):\n",
    "        chart_data.append([source[index], relations[index]])\n",
    "    if (target[index] != \"\"):\n",
    "        chart_data.append([target[index], relations[index]])\n",
    "    if (source[index] != \"\" and target[index] != \"\"):\n",
    "        chart_data.append([source[index], target[index]])\n",
    "\n",
    "Javascript(\"window.chartData={};\".format(json.dumps(chart_data)))"
   ]
  },
  {
   "cell_type": "code",
   "execution_count": 14,
   "metadata": {},
   "outputs": [
    {
     "data": {
      "text/plain": [
       "[['limpio', 'baño'],\n",
       " ['baño', 'sucio'],\n",
       " ['vecino', 'ruido'],\n",
       " ['vecino', 'día'],\n",
       " ['vecina', 'día'],\n",
       " ['vecino', 'radio'],\n",
       " ['calle', 'yo'],\n",
       " ['viejo', 'cuerpo'],\n",
       " ['viejo', 'pervertir'],\n",
       " ['viejo', 'pervertir'],\n",
       " ['calle', 'sucio'],\n",
       " ['limpio', 'calle'],\n",
       " ['perro', 'basura'],\n",
       " ['calle', 'desecho'],\n",
       " ['calle', 'desecho'],\n",
       " ['mierda', 'acera']]"
      ]
     },
     "execution_count": 14,
     "metadata": {},
     "output_type": "execute_result"
    }
   ],
   "source": [
    "topicando.getSourcesTargetsArray()"
   ]
  },
  {
   "cell_type": "code",
   "execution_count": 46,
   "metadata": {},
   "outputs": [
    {
     "data": {
      "application/javascript": [
       "window.chartData=[[\"falta\", \"respuesta\"], [\"notificaci\\u00f3n\", \"que\"], [\"altura\", \"revisi\\u00f3n\"], [\"modificacion  ambito\", \"comision\"], [\"buz\\u00f3n\", \"notificaci\\u00f3n\"], [\"no  m\\u00e1quina\", \"bono\"], [\"incidencia\", \"carretera\"], [\"incidencia\", \"carretera\"], [\"incidencia\", \"carretera\"], [\"exigencia\", \"uso\"], [\"transporte\", \"demanda\"], [\"lugar\", \"mascarilla\"], [\"se\\u00f1alizaci\\u00f3n\", \"entrada\"], [\"alta\", \"sistema\"], [\"notificaci\\u00f3n\", \"electr\\u00f3nico\"], [\"medio\", \"ambiente\"], [\"medio\", \"ambiente\"], [\"medio\", \"ambiente\"], [\"queja\", \"presentado\"], [\"falta\", \"aviso\"], [\"paso\", \"peatonal\"], [\"horizontal\", \"mejora\"], [\"interesar\", \"precio\"], [\"interesar\", \"precio\"], [\"interesar\", \"precio\"], [\"reacondicionamiento\", \"camino\"], [\"contestaci\\u00f3n\", \"satisfecho\"], [\"modificaci\\u00f3n\", \"normativa\"], [\"alegaci\\u00f3n\", \"plantilla\"], [\"interesado\", \"eliminaci\\u00f3n\"], [\"interesado\", \"real\"], [\"interesado\", \"real\"], [\"desacuerdo\", \"asignaci\\u00f3n\"], [\"rechazado\", \"servicio\"], [\"rechazado\", \"servicio\"], [\"interesado\", \"retraso\"], [\"cl-501\", \"entrada\"], [\"pasal\", \"madera\"], [\"interesado\", \"riesgo\"], [\"documento\", \"solicitar\"], [\"documento\", \"solicitar\"], [\"incumplimiento\", \"normativo\"], [\"interesado\", \"denuncia\"], [\"mal\", \"funcionamiento\"], [\"deasignaci\\u00f3n\", \"permiso\"], [\"electr\\u00f3nico\", \"tramitaci\\u00f3n\"], [\"mal\", \"funcionamiento\"], [\"petici\\u00f3n\", \"mejor\"], [\"colocaci\\u00f3n\", \"bad\\u00e9n\"], [\"cl@ve\", \"sistema\"], [\"limpieza\", \"ca\\u00f1ado\"], [\"solicitud\", \"servicio\"], [\"camino\", \"vecinal\"], [\"falta\", \"informaci\\u00f3n\"], [\"notificaci\\u00f3n\", \"electr\\u00f3nico\"], [\"retraso\", \"santerva\"], [\"unificaci\\u00f3n\", \"criterio\"], [\"contaminaci\\u00f3n\", \"actividad\"], [\"cierre\", \"112\"], [\"cierre\", \"112\"], [\"cierre\", \"112\"], [\"falta\", \"vigilancia\"], [\"mal\", \"estado\"], [\"mal\", \"estado\"], [\"mejora\", \"tecnol\\u00f3gico\"], [\"imposibilidad\", \"contacto\"], [\"se\\u00f1al\", \"carretera\"], [\"iteresado\", \"soluci\\u00f3n\"], [\"iteresado\", \"soluci\\u00f3n\"], [\"malestar\", \"falta\"], [\"mal\", \"funcionamiento\"], [\"supervisi\\u00f3n\", \"calidad\"], [\"cr\\u00edtica\", \"exigencia\"], [\"mal  agujero\", \"asfaltar\"], [\"mal  agujero\", \"asfaltar\"], [\"mal  agujero\", \"asfaltar\"], [\"camino\", \"p\\u00fablico\"], [\"forma\", \"presencial\"], [\"forma\", \"presencial\"], [\"demora\", \"violencia\"], [\"registro\", \"puerta\"], [\"registro\", \"puerta\"], [\"interesado\", \"ubiaci\\u00f3n\"], [\"deficiente\", \"territorial\"], [\"reiteraci\\u00f3n\", \"estado\"], [\"cartel\", \"playa\"], [\"desafectacion  parcela\", \"desafectacion\"], [\"atenci\\u00f3n\", \"telef\\u00f3nico\"], [\"estado\", \"se\\u00f1alizaci\\u00f3n\"], [\"interesado\", \"certificado\"], [\"interesado\", \"certificado\"], [\"se\\u00f1al\", \"luminoso\"], [\"paso\", \"cami\\u00f3n\"], [\"limpieza\", \"cuneta\"], [\"instalacion\", \"carretera\"], [\"veh\\u00edculo\", \"paso\"], [\"veh\\u00edculo\", \"paso\"], [\"estado\", \"salido\"], [\"falta\", \"atenci\\u00f3n\"], [\"problema\", \"conexi\\u00f3n\"], [\"alto\", \"localidad\"], [\"interesado\", \"segovia\"], [\"error\", \"declaraci\\u00f3n\"], [\"falta\", \"cuidado\"], [\"falta\", \"luz\"], [\"imposiblidad\", \"internet\"], [\"imposiblidad\", \"internet\"], [\"notificaci\\u00f3n\", \"electr\\u00f3nico\"], [\"desacuerdo\", \"asignaci\\u00f3n\"], [\"malo\", \"conservaci\\u00f3n\"], [\"electr\\u00f3nico\", \"gnu-linux\"], [\"electr\\u00f3nico\", \"gnu-linux\"], [\"electr\\u00f3nico\", \"gnu-linux\"], [\"reclamaci\\u00f3n\", \"malo\"], [\"limpieza\", \"solar\"], [\"notificaci\\u00f3n\", \"buz\\u00f3n\"], [\"tercero\", \"solicitante\"], [\"tercero\", \"solicitante\"], [\"tercero\", \"solicitante\"], [\"tercero\", \"solicitante\"], [\"sanci\\u00f3n\", \"tr\\u00e1fico\"], [\"no ambiente en subir\", \"personal\"], [\"no ambiente en subir\", \"personal\"], [\"no ambiente en subir\", \"personal\"], [\"pesca\", \"oficina\"], [\"servicio\", \"precario\"], [\"falta\", \"atenci\\u00f3n\"], [\"falta\", \"junta\"], [\"aclaraci\\u00f3n\", \"legislaci\\u00f3n\"], [\"sistema\", \"informatico\"], [\"queja\", \"medio\"], [\"pino\", \"existente\"], [\"protecci\\u00f3n\", \"incendio\"], [\"disconformidad\", \"contestaci\\u00f3n\"], [\"internet\", \"telefon\\u00eda\"], [\"incumplmiiento\", \"normativa\"], [\"coto\", \"pesco\"], [\"localidad\", \"cambio\"], [\"trato\", \"inadecuado\"], [\"licencia\", \"ambiental\"], [\"construcci\\u00f3n\", \"velatorio\"], [\"sistema\", \"operativo\"], [\"interesado\", \"obra\"], [\"deficiencia\", \"carril\"], [\"trato\", \"recibido\"], [\"barrera\", \"protecci\\u00f3n\"], [\"teletramitaci\\u00f3n\", \"documento\"], [\"teletramitaci\\u00f3n\", \"documento\"], [\"vertido\", \"parcela\"], [\"estado\", \"carretera\"], [\"prtoblema\", \"sede\"], [\"atenci\\u00f3n\", \"inadecuado\"], [\"estado\", \"carretera\"], [\"contestaci\\u00f3n\", \"escrito\"], [\"se\\u00f1alizaci\\u00f3n\", \"comienzo\"], [\"interesado\", \"estado\"], [\"peligrosidad\", \"carretera\"], [\"certificadi\", \"competencia\"], [\"interesado\", \"estado\"], [\"inadecuado  agente\", \"inadecuado\"], [\"lal\", \"estado\"], [\"administraci\\u00f3n\", \"tr\\u00e1mite\"], [\"administraci\\u00f3n\", \"tr\\u00e1mite\"], [\"administraci\\u00f3n\", \"tr\\u00e1mite\"], [\"administraci\\u00f3n\", \"tr\\u00e1mite\"], [\"adopci\\u00f3n\", \"estrategia\"], [\"interesado\", \"retraso\"], [\"cuestio\\u00f3n\", \"relativo\"], [\"terraza\", \"verja\"], [\"requisito\", \"ite\"], [\"estado\", \"m\\u00e1rg\\u00e9n\"], [\"atenci\\u00f3n\", \"mesa\"], [\"atenci\\u00f3n\", \"mesa\"], [\"informaci\\u00f3n\", \"insuficiente\"], [\"devoluci\\u00f3n\", \"importe\"], [\"interesado\", \"aglomeraci\\u00f3n\"], [\"imposibilidad\", \"tr\\u00e1mite\"], [\"interesado\", \"pr\\u00e1ctica\"], [\"interesado\", \"pr\\u00e1ctica\"], [\"interesado\", \"pr\\u00e1ctica\"], [\"interesado\", \"pr\\u00e1ctica\"], [\"falta\", \"contestaci\\u00f3n\"], [\"horario\", \"clase\"], [\"propiedad\", \"actuaci\\u00f3n\"], [\"falta\", \"se\\u00f1alizaci\\u00f3n\"], [\"fomento\", \"atender\"], [\"fomento\", \"atender\"], [\"fomento\", \"atender\"], [\"dificultad\", \"60\"], [\"derecho\", \"tr\\u00e1mite\"], [\"nuevo\", \"sistema\"], [\"cebo\", \"utilizado\"], [\"mal\", \"funcionamiento\"], [\"reserva\", \"fecha\"], [\"importe\", \"devoluci\\u00f3n\"], [\"interesado\", \"prestaci\\u00f3n\"], [\"autob\\u00fas\", \"d\\u00eda\"], [\"autob\\u00fas\", \"d\\u00eda\"], [\"limpieza\", \"carretera\"], [\"normalidad\", \"post-covid\"], [\"di\\u00e1metro\", \"escaso\"], [\"contestaci\\u00f3n\", \"urgente\"]];"
      ],
      "text/plain": [
       "<IPython.core.display.Javascript object>"
      ]
     },
     "execution_count": 46,
     "metadata": {},
     "output_type": "execute_result"
    }
   ],
   "source": [
    "chart_data = []\n",
    "nodes_filtered = []\n",
    "for i in topicando.getSourcesTargetsArray():\n",
    "    if i[0] not in nodes_filtered:\n",
    "        nodes_filtered.append(i[0])\n",
    "    if i[1] not in nodes_filtered:\n",
    "        nodes_filtered.append(i[1])\n",
    "    chart_data.append([i[0],i[1]])\n",
    "\n",
    "Javascript(\"window.chartData={};\".format(json.dumps(chart_data)))"
   ]
  },
  {
   "cell_type": "code",
   "execution_count": 47,
   "metadata": {},
   "outputs": [
    {
     "data": {
      "application/javascript": [
       "window.nodes=[{\"id\": \"falta\", \"marker\": {\"radius\": 12}}, {\"id\": \"respuesta\", \"marker\": {\"radius\": 1}}, {\"id\": \"notificaci\\u00f3n\", \"marker\": {\"radius\": 6}}, {\"id\": \"que\", \"marker\": {\"radius\": 1}}, {\"id\": \"altura\", \"marker\": {\"radius\": 1}}, {\"id\": \"revisi\\u00f3n\", \"marker\": {\"radius\": 1}}, {\"id\": \"modificacion  ambito\", \"marker\": {\"radius\": 1}}, {\"id\": \"comision\", \"marker\": {\"radius\": 1}}, {\"id\": \"buz\\u00f3n\", \"marker\": {\"radius\": 2}}, {\"id\": \"no  m\\u00e1quina\", \"marker\": {\"radius\": 1}}, {\"id\": \"bono\", \"marker\": {\"radius\": 1}}, {\"id\": \"incidencia\", \"marker\": {\"radius\": 1}}, {\"id\": \"carretera\", \"marker\": {\"radius\": 7}}, {\"id\": \"exigencia\", \"marker\": {\"radius\": 2}}, {\"id\": \"uso\", \"marker\": {\"radius\": 1}}, {\"id\": \"transporte\", \"marker\": {\"radius\": 1}}, {\"id\": \"demanda\", \"marker\": {\"radius\": 1}}, {\"id\": \"lugar\", \"marker\": {\"radius\": 1}}, {\"id\": \"mascarilla\", \"marker\": {\"radius\": 1}}, {\"id\": \"se\\u00f1alizaci\\u00f3n\", \"marker\": {\"radius\": 4}}, {\"id\": \"entrada\", \"marker\": {\"radius\": 2}}, {\"id\": \"alta\", \"marker\": {\"radius\": 1}}, {\"id\": \"sistema\", \"marker\": {\"radius\": 5}}, {\"id\": \"electr\\u00f3nico\", \"marker\": {\"radius\": 5}}, {\"id\": \"medio\", \"marker\": {\"radius\": 2}}, {\"id\": \"ambiente\", \"marker\": {\"radius\": 1}}, {\"id\": \"queja\", \"marker\": {\"radius\": 2}}, {\"id\": \"presentado\", \"marker\": {\"radius\": 1}}, {\"id\": \"aviso\", \"marker\": {\"radius\": 1}}, {\"id\": \"paso\", \"marker\": {\"radius\": 3}}, {\"id\": \"peatonal\", \"marker\": {\"radius\": 1}}, {\"id\": \"horizontal\", \"marker\": {\"radius\": 1}}, {\"id\": \"mejora\", \"marker\": {\"radius\": 2}}, {\"id\": \"interesar\", \"marker\": {\"radius\": 2}}, {\"id\": \"precio\", \"marker\": {\"radius\": 1}}, {\"id\": \"reacondicionamiento\", \"marker\": {\"radius\": 1}}, {\"id\": \"camino\", \"marker\": {\"radius\": 3}}, {\"id\": \"contestaci\\u00f3n\", \"marker\": {\"radius\": 5}}, {\"id\": \"satisfecho\", \"marker\": {\"radius\": 1}}, {\"id\": \"modificaci\\u00f3n\", \"marker\": {\"radius\": 1}}, {\"id\": \"normativa\", \"marker\": {\"radius\": 2}}, {\"id\": \"alegaci\\u00f3n\", \"marker\": {\"radius\": 1}}, {\"id\": \"plantilla\", \"marker\": {\"radius\": 1}}, {\"id\": \"interesado\", \"marker\": {\"radius\": 16}}, {\"id\": \"eliminaci\\u00f3n\", \"marker\": {\"radius\": 1}}, {\"id\": \"real\", \"marker\": {\"radius\": 2}}, {\"id\": \"desacuerdo\", \"marker\": {\"radius\": 2}}, {\"id\": \"asignaci\\u00f3n\", \"marker\": {\"radius\": 2}}, {\"id\": \"rechazado\", \"marker\": {\"radius\": 1}}, {\"id\": \"servicio\", \"marker\": {\"radius\": 3}}, {\"id\": \"retraso\", \"marker\": {\"radius\": 3}}, {\"id\": \"cl-501\", \"marker\": {\"radius\": 1}}, {\"id\": \"pasal\", \"marker\": {\"radius\": 1}}, {\"id\": \"madera\", \"marker\": {\"radius\": 1}}, {\"id\": \"riesgo\", \"marker\": {\"radius\": 1}}, {\"id\": \"documento\", \"marker\": {\"radius\": 2}}, {\"id\": \"solicitar\", \"marker\": {\"radius\": 9}}, {\"id\": \"incumplimiento\", \"marker\": {\"radius\": 1}}, {\"id\": \"normativo\", \"marker\": {\"radius\": 1}}, {\"id\": \"denuncia\", \"marker\": {\"radius\": 1}}, {\"id\": \"mal\", \"marker\": {\"radius\": 5}}, {\"id\": \"funcionamiento\", \"marker\": {\"radius\": 4}}, {\"id\": \"deasignaci\\u00f3n\", \"marker\": {\"radius\": 1}}, {\"id\": \"permiso\", \"marker\": {\"radius\": 1}}, {\"id\": \"tramitaci\\u00f3n\", \"marker\": {\"radius\": 1}}, {\"id\": \"petici\\u00f3n\", \"marker\": {\"radius\": 1}}, {\"id\": \"mejor\", \"marker\": {\"radius\": 1}}, {\"id\": \"colocaci\\u00f3n\", \"marker\": {\"radius\": 1}}, {\"id\": \"bad\\u00e9n\", \"marker\": {\"radius\": 1}}, {\"id\": \"cl@ve\", \"marker\": {\"radius\": 1}}, {\"id\": \"limpieza\", \"marker\": {\"radius\": 4}}, {\"id\": \"ca\\u00f1ado\", \"marker\": {\"radius\": 1}}, {\"id\": \"solicitud\", \"marker\": {\"radius\": 2}}, {\"id\": \"vecinal\", \"marker\": {\"radius\": 1}}, {\"id\": \"informaci\\u00f3n\", \"marker\": {\"radius\": 2}}, {\"id\": \"santerva\", \"marker\": {\"radius\": 1}}, {\"id\": \"unificaci\\u00f3n\", \"marker\": {\"radius\": 1}}, {\"id\": \"criterio\", \"marker\": {\"radius\": 1}}, {\"id\": \"contaminaci\\u00f3n\", \"marker\": {\"radius\": 1}}, {\"id\": \"actividad\", \"marker\": {\"radius\": 1}}, {\"id\": \"cierre\", \"marker\": {\"radius\": 3}}, {\"id\": \"112\", \"marker\": {\"radius\": 1}}, {\"id\": \"vigilancia\", \"marker\": {\"radius\": 1}}, {\"id\": \"estado\", \"marker\": {\"radius\": 10}}, {\"id\": \"tecnol\\u00f3gico\", \"marker\": {\"radius\": 1}}, {\"id\": \"imposibilidad\", \"marker\": {\"radius\": 2}}, {\"id\": \"contacto\", \"marker\": {\"radius\": 1}}, {\"id\": \"se\\u00f1al\", \"marker\": {\"radius\": 2}}, {\"id\": \"iteresado\", \"marker\": {\"radius\": 1}}, {\"id\": \"soluci\\u00f3n\", \"marker\": {\"radius\": 1}}, {\"id\": \"malestar\", \"marker\": {\"radius\": 1}}, {\"id\": \"supervisi\\u00f3n\", \"marker\": {\"radius\": 1}}, {\"id\": \"calidad\", \"marker\": {\"radius\": 1}}, {\"id\": \"cr\\u00edtica\", \"marker\": {\"radius\": 1}}, {\"id\": \"mal  agujero\", \"marker\": {\"radius\": 1}}, {\"id\": \"asfaltar\", \"marker\": {\"radius\": 2}}, {\"id\": \"p\\u00fablico\", \"marker\": {\"radius\": 1}}, {\"id\": \"forma\", \"marker\": {\"radius\": 1}}, {\"id\": \"presencial\", \"marker\": {\"radius\": 1}}, {\"id\": \"demora\", \"marker\": {\"radius\": 1}}, {\"id\": \"violencia\", \"marker\": {\"radius\": 1}}, {\"id\": \"registro\", \"marker\": {\"radius\": 1}}, {\"id\": \"puerta\", \"marker\": {\"radius\": 1}}, {\"id\": \"ubiaci\\u00f3n\", \"marker\": {\"radius\": 1}}, {\"id\": \"deficiente\", \"marker\": {\"radius\": 1}}, {\"id\": \"territorial\", \"marker\": {\"radius\": 1}}, {\"id\": \"reiteraci\\u00f3n\", \"marker\": {\"radius\": 1}}, {\"id\": \"cartel\", \"marker\": {\"radius\": 1}}, {\"id\": \"playa\", \"marker\": {\"radius\": 1}}, {\"id\": \"desafectacion  parcela\", \"marker\": {\"radius\": 1}}, {\"id\": \"desafectacion\", \"marker\": {\"radius\": 1}}, {\"id\": \"atenci\\u00f3n\", \"marker\": {\"radius\": 5}}, {\"id\": \"telef\\u00f3nico\", \"marker\": {\"radius\": 1}}, {\"id\": \"certificado\", \"marker\": {\"radius\": 1}}, {\"id\": \"luminoso\", \"marker\": {\"radius\": 1}}, {\"id\": \"cami\\u00f3n\", \"marker\": {\"radius\": 1}}, {\"id\": \"cuneta\", \"marker\": {\"radius\": 1}}, {\"id\": \"instalacion\", \"marker\": {\"radius\": 1}}, {\"id\": \"veh\\u00edculo\", \"marker\": {\"radius\": 1}}, {\"id\": \"salido\", \"marker\": {\"radius\": 1}}, {\"id\": \"problema\", \"marker\": {\"radius\": 1}}, {\"id\": \"conexi\\u00f3n\", \"marker\": {\"radius\": 1}}, {\"id\": \"alto\", \"marker\": {\"radius\": 1}}, {\"id\": \"localidad\", \"marker\": {\"radius\": 2}}, {\"id\": \"segovia\", \"marker\": {\"radius\": 1}}, {\"id\": \"error\", \"marker\": {\"radius\": 1}}, {\"id\": \"declaraci\\u00f3n\", \"marker\": {\"radius\": 1}}, {\"id\": \"cuidado\", \"marker\": {\"radius\": 1}}, {\"id\": \"luz\", \"marker\": {\"radius\": 1}}, {\"id\": \"imposiblidad\", \"marker\": {\"radius\": 1}}, {\"id\": \"internet\", \"marker\": {\"radius\": 2}}, {\"id\": \"malo\", \"marker\": {\"radius\": 2}}, {\"id\": \"conservaci\\u00f3n\", \"marker\": {\"radius\": 1}}, {\"id\": \"gnu-linux\", \"marker\": {\"radius\": 1}}, {\"id\": \"reclamaci\\u00f3n\", \"marker\": {\"radius\": 1}}, {\"id\": \"solar\", \"marker\": {\"radius\": 1}}, {\"id\": \"tercero\", \"marker\": {\"radius\": 1}}, {\"id\": \"solicitante\", \"marker\": {\"radius\": 1}}, {\"id\": \"sanci\\u00f3n\", \"marker\": {\"radius\": 1}}, {\"id\": \"tr\\u00e1fico\", \"marker\": {\"radius\": 1}}, {\"id\": \"no ambiente en subir\", \"marker\": {\"radius\": 1}}, {\"id\": \"personal\", \"marker\": {\"radius\": 1}}, {\"id\": \"pesca\", \"marker\": {\"radius\": 1}}, {\"id\": \"oficina\", \"marker\": {\"radius\": 1}}, {\"id\": \"precario\", \"marker\": {\"radius\": 1}}, {\"id\": \"junta\", \"marker\": {\"radius\": 1}}, {\"id\": \"aclaraci\\u00f3n\", \"marker\": {\"radius\": 1}}, {\"id\": \"legislaci\\u00f3n\", \"marker\": {\"radius\": 1}}, {\"id\": \"informatico\", \"marker\": {\"radius\": 1}}, {\"id\": \"pino\", \"marker\": {\"radius\": 1}}, {\"id\": \"existente\", \"marker\": {\"radius\": 1}}, {\"id\": \"protecci\\u00f3n\", \"marker\": {\"radius\": 2}}, {\"id\": \"incendio\", \"marker\": {\"radius\": 1}}, {\"id\": \"disconformidad\", \"marker\": {\"radius\": 1}}, {\"id\": \"telefon\\u00eda\", \"marker\": {\"radius\": 1}}, {\"id\": \"incumplmiiento\", \"marker\": {\"radius\": 1}}, {\"id\": \"coto\", \"marker\": {\"radius\": 1}}, {\"id\": \"pesco\", \"marker\": {\"radius\": 1}}, {\"id\": \"cambio\", \"marker\": {\"radius\": 1}}, {\"id\": \"trato\", \"marker\": {\"radius\": 2}}, {\"id\": \"inadecuado\", \"marker\": {\"radius\": 3}}, {\"id\": \"licencia\", \"marker\": {\"radius\": 1}}, {\"id\": \"ambiental\", \"marker\": {\"radius\": 1}}, {\"id\": \"construcci\\u00f3n\", \"marker\": {\"radius\": 1}}, {\"id\": \"velatorio\", \"marker\": {\"radius\": 1}}, {\"id\": \"operativo\", \"marker\": {\"radius\": 1}}, {\"id\": \"obra\", \"marker\": {\"radius\": 1}}, {\"id\": \"deficiencia\", \"marker\": {\"radius\": 1}}, {\"id\": \"carril\", \"marker\": {\"radius\": 1}}, {\"id\": \"recibido\", \"marker\": {\"radius\": 1}}, {\"id\": \"barrera\", \"marker\": {\"radius\": 1}}, {\"id\": \"teletramitaci\\u00f3n\", \"marker\": {\"radius\": 1}}, {\"id\": \"vertido\", \"marker\": {\"radius\": 1}}, {\"id\": \"parcela\", \"marker\": {\"radius\": 1}}, {\"id\": \"prtoblema\", \"marker\": {\"radius\": 1}}, {\"id\": \"sede\", \"marker\": {\"radius\": 1}}, {\"id\": \"escrito\", \"marker\": {\"radius\": 1}}, {\"id\": \"comienzo\", \"marker\": {\"radius\": 1}}, {\"id\": \"peligrosidad\", \"marker\": {\"radius\": 1}}, {\"id\": \"certificadi\", \"marker\": {\"radius\": 1}}, {\"id\": \"competencia\", \"marker\": {\"radius\": 1}}, {\"id\": \"inadecuado  agente\", \"marker\": {\"radius\": 1}}, {\"id\": \"lal\", \"marker\": {\"radius\": 1}}, {\"id\": \"administraci\\u00f3n\", \"marker\": {\"radius\": 1}}, {\"id\": \"tr\\u00e1mite\", \"marker\": {\"radius\": 3}}, {\"id\": \"adopci\\u00f3n\", \"marker\": {\"radius\": 1}}, {\"id\": \"estrategia\", \"marker\": {\"radius\": 1}}, {\"id\": \"cuestio\\u00f3n\", \"marker\": {\"radius\": 1}}, {\"id\": \"relativo\", \"marker\": {\"radius\": 1}}, {\"id\": \"terraza\", \"marker\": {\"radius\": 1}}, {\"id\": \"verja\", \"marker\": {\"radius\": 1}}, {\"id\": \"requisito\", \"marker\": {\"radius\": 1}}, {\"id\": \"ite\", \"marker\": {\"radius\": 1}}, {\"id\": \"m\\u00e1rg\\u00e9n\", \"marker\": {\"radius\": 1}}, {\"id\": \"mesa\", \"marker\": {\"radius\": 1}}, {\"id\": \"insuficiente\", \"marker\": {\"radius\": 1}}, {\"id\": \"devoluci\\u00f3n\", \"marker\": {\"radius\": 2}}, {\"id\": \"importe\", \"marker\": {\"radius\": 2}}, {\"id\": \"aglomeraci\\u00f3n\", \"marker\": {\"radius\": 1}}, {\"id\": \"pr\\u00e1ctica\", \"marker\": {\"radius\": 1}}, {\"id\": \"horario\", \"marker\": {\"radius\": 1}}, {\"id\": \"clase\", \"marker\": {\"radius\": 1}}, {\"id\": \"propiedad\", \"marker\": {\"radius\": 1}}, {\"id\": \"actuaci\\u00f3n\", \"marker\": {\"radius\": 1}}, {\"id\": \"fomento\", \"marker\": {\"radius\": 1}}, {\"id\": \"atender\", \"marker\": {\"radius\": 4}}, {\"id\": \"dificultad\", \"marker\": {\"radius\": 1}}, {\"id\": \"60\", \"marker\": {\"radius\": 1}}, {\"id\": \"derecho\", \"marker\": {\"radius\": 1}}, {\"id\": \"nuevo\", \"marker\": {\"radius\": 1}}, {\"id\": \"cebo\", \"marker\": {\"radius\": 1}}, {\"id\": \"utilizado\", \"marker\": {\"radius\": 1}}, {\"id\": \"reserva\", \"marker\": {\"radius\": 1}}, {\"id\": \"fecha\", \"marker\": {\"radius\": 1}}, {\"id\": \"prestaci\\u00f3n\", \"marker\": {\"radius\": 1}}, {\"id\": \"autob\\u00fas\", \"marker\": {\"radius\": 1}}, {\"id\": \"d\\u00eda\", \"marker\": {\"radius\": 1}}, {\"id\": \"normalidad\", \"marker\": {\"radius\": 1}}, {\"id\": \"post-covid\", \"marker\": {\"radius\": 1}}, {\"id\": \"di\\u00e1metro\", \"marker\": {\"radius\": 1}}, {\"id\": \"escaso\", \"marker\": {\"radius\": 1}}, {\"id\": \"urgente\", \"marker\": {\"radius\": 1}}];"
      ],
      "text/plain": [
       "<IPython.core.display.Javascript object>"
      ]
     },
     "execution_count": 47,
     "metadata": {},
     "output_type": "execute_result"
    }
   ],
   "source": [
    "topicando.getWordCountOfEntitiesAndRelations()        \n",
    "nodes = []\n",
    "for word in topicando.dictWords.keys():\n",
    "    if word != '' and word in nodes_filtered:\n",
    "        nodes.append({\n",
    "            \"id\": word,\n",
    "            \"marker\": {\n",
    "                \"radius\": topicando.dictWords[word]\n",
    "            }\n",
    "        })\n",
    "\n",
    "Javascript(\"window.nodes={};\".format(json.dumps(nodes)))"
   ]
  },
  {
   "cell_type": "code",
   "execution_count": 48,
   "metadata": {},
   "outputs": [
    {
     "data": {
      "application/javascript": [
       "// Since I append the div later, sometimes there are multiple divs.\n",
       "$(\"#container\").remove();\n",
       "\n",
       "// Make the cdiv to contain the chart.\n",
       "element.append('<div id=\"container\" style=\"min-width: 310px; min-height: 600px; margin: 0 auto\"></div>');\n",
       "\n",
       "console.log(\"init\");\n",
       "console.log(window.chartData);\n",
       "console.log(window.nodes);\n",
       "\n",
       "// Require highcarts and make the chart.\n",
       "require([\n",
       "    'highcharts',\n",
       "    'highcharts/modules/exporting',\n",
       "    'highcharts/modules/accessibility',\n",
       "    'highcharts/modules/networkgraph'\n",
       "], function (Highcharts) {\n",
       "\n",
       "    console.log(\"WORKING\");\n",
       "    $('#container').highcharts({\n",
       "        chart: {\n",
       "        type: 'networkgraph',\n",
       "        height: '100%'\n",
       "      },\n",
       "      title: {\n",
       "        text: ''\n",
       "      },\n",
       "      subtitle: {\n",
       "        text: ''\n",
       "      },\n",
       "        tooltip: {\n",
       "    formatter: function () {\n",
       "        console.log(this)\n",
       "      return \"<b>\" + this.key + \"</b>: \" + this.point.radius;\n",
       "    }\n",
       "  },\n",
       "      plotOptions: {\n",
       "        networkgraph: {\n",
       "          keys: ['from', 'to'],\n",
       "          layoutAlgorithm: {\n",
       "            enableSimulation: false,//true\n",
       "            friction: -0.9\n",
       "          }\n",
       "        }\n",
       "      },\n",
       "      series: [{\n",
       "          colorByPoint: true,\n",
       "        accessibility: {\n",
       "          enabled: false\n",
       "        },\n",
       "        dataLabels: {\n",
       "          enabled: true,\n",
       "          linkFormat: '',\n",
       "        },\n",
       "        id: 'lang-tree',\n",
       "        data: window.chartData,\n",
       "        nodes: window.nodes\n",
       "      }]\n",
       "    });\n",
       "});\n"
      ],
      "text/plain": [
       "<IPython.core.display.Javascript object>"
      ]
     },
     "metadata": {},
     "output_type": "display_data"
    }
   ],
   "source": [
    "%%javascript\n",
    "// Since I append the div later, sometimes there are multiple divs.\n",
    "$(\"#container\").remove();\n",
    "\n",
    "// Make the cdiv to contain the chart.\n",
    "element.append('<div id=\"container\" style=\"min-width: 310px; min-height: 600px; margin: 0 auto\"></div>');\n",
    "\n",
    "console.log(\"init\");\n",
    "console.log(window.chartData);\n",
    "console.log(window.nodes);\n",
    "\n",
    "// Require highcarts and make the chart.\n",
    "require([\n",
    "    'highcharts',\n",
    "    'highcharts/modules/exporting',\n",
    "    'highcharts/modules/accessibility',\n",
    "    'highcharts/modules/networkgraph'\n",
    "], function (Highcharts) {\n",
    "\n",
    "    console.log(\"WORKING\");\n",
    "    $('#container').highcharts({\n",
    "        chart: {\n",
    "        type: 'networkgraph',\n",
    "        height: '100%'\n",
    "      },\n",
    "      title: {\n",
    "        text: ''\n",
    "      },\n",
    "      subtitle: {\n",
    "        text: ''\n",
    "      },\n",
    "        tooltip: {\n",
    "    formatter: function () {\n",
    "        console.log(this)\n",
    "      return \"<b>\" + this.key + \"</b>: \" + this.point.radius;\n",
    "    }\n",
    "  },\n",
    "      plotOptions: {\n",
    "        networkgraph: {\n",
    "          keys: ['from', 'to'],\n",
    "          layoutAlgorithm: {\n",
    "            enableSimulation: false,//true\n",
    "            friction: -0.9\n",
    "          }\n",
    "        }\n",
    "      },\n",
    "      series: [{\n",
    "          colorByPoint: true,\n",
    "        accessibility: {\n",
    "          enabled: false\n",
    "        },\n",
    "        dataLabels: {\n",
    "          enabled: true,\n",
    "          linkFormat: '',\n",
    "        },\n",
    "        id: 'lang-tree',\n",
    "        data: window.chartData,\n",
    "        nodes: window.nodes\n",
    "      }]\n",
    "    });\n",
    "});"
   ]
  }
 ],
 "metadata": {
  "kernelspec": {
   "display_name": "Python 3 (ipykernel)",
   "language": "python",
   "name": "python3"
  },
  "language_info": {
   "codemirror_mode": {
    "name": "ipython",
    "version": 3
   },
   "file_extension": ".py",
   "mimetype": "text/x-python",
   "name": "python",
   "nbconvert_exporter": "python",
   "pygments_lexer": "ipython3",
   "version": "3.10.6"
  },
  "vscode": {
   "interpreter": {
    "hash": "e7370f93d1d0cde622a1f8e1c04877d8463912d04d973331ad4851f04de6915a"
   }
  }
 },
 "nbformat": 4,
 "nbformat_minor": 2
}
